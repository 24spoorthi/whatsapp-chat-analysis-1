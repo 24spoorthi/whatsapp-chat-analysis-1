{
 "cells": [
  {
   "cell_type": "code",
   "execution_count": 1,
   "metadata": {},
   "outputs": [],
   "source": [
    "# importing all the necessary libraries\n",
    "import re\n",
    "import datetime\n",
    "import numpy as np\n",
    "import pandas as pd\n",
    "import matplotlib.pyplot as plt\n",
    "import seaborn as sns\n",
    "from wordcloud import WordCloud, STOPWORDS\n",
    "import emoji\n",
    "import itertools \n",
    "from collections import Counter\n",
    "import warnings\n",
    "\n",
    "%matplotlib inline"
   ]
  },
  {
   "cell_type": "code",
   "execution_count": 2,
   "metadata": {},
   "outputs": [],
   "source": [
    "# loading the dataset into a dataframe for manipulation\n",
    "df = pd.read_csv('Whatsapp_Chat_Table.csv', index_col=0)"
   ]
  },
  {
   "cell_type": "code",
   "execution_count": 3,
   "metadata": {},
   "outputs": [],
   "source": [
    "# converted to datetime datatype as the default datatype considered was object\n",
    "df['date_time'] = pd.to_datetime(df.date_time, format='%Y-%m-%d %H:%M:%S')"
   ]
  },
  {
   "cell_type": "code",
   "execution_count": 4,
   "metadata": {},
   "outputs": [
    {
     "data": {
      "text/plain": [
       "dtype('<M8[ns]')"
      ]
     },
     "execution_count": 4,
     "metadata": {},
     "output_type": "execute_result"
    }
   ],
   "source": [
    "df['date_time'].dtype"
   ]
  },
  {
   "cell_type": "code",
   "execution_count": 5,
   "metadata": {},
   "outputs": [],
   "source": [
    "# bifurcating datetime into 4 different columns for further analysis\n",
    "df['day'] = df['date_time'].dt.strftime('%a')\n",
    "df['month'] = df['date_time'].dt.strftime('%b')\n",
    "df['year'] = df['date_time'].dt.year\n",
    "df['date'] = df['date_time'].apply(lambda x: x.date())"
   ]
  },
  {
   "cell_type": "code",
   "execution_count": 6,
   "metadata": {},
   "outputs": [
    {
     "data": {
      "text/html": [
       "<div>\n",
       "<style scoped>\n",
       "    .dataframe tbody tr th:only-of-type {\n",
       "        vertical-align: middle;\n",
       "    }\n",
       "\n",
       "    .dataframe tbody tr th {\n",
       "        vertical-align: top;\n",
       "    }\n",
       "\n",
       "    .dataframe thead th {\n",
       "        text-align: right;\n",
       "    }\n",
       "</style>\n",
       "<table border=\"1\" class=\"dataframe\">\n",
       "  <thead>\n",
       "    <tr style=\"text-align: right;\">\n",
       "      <th></th>\n",
       "      <th>date_time</th>\n",
       "      <th>user</th>\n",
       "      <th>message</th>\n",
       "      <th>day</th>\n",
       "      <th>month</th>\n",
       "      <th>year</th>\n",
       "      <th>date</th>\n",
       "    </tr>\n",
       "  </thead>\n",
       "  <tbody>\n",
       "    <tr>\n",
       "      <th>0</th>\n",
       "      <td>2020-01-26 16:19:00</td>\n",
       "      <td>group_notification</td>\n",
       "      <td>Messages and calls are end-to-end encrypted. N...</td>\n",
       "      <td>Sun</td>\n",
       "      <td>Jan</td>\n",
       "      <td>2020</td>\n",
       "      <td>2020-01-26</td>\n",
       "    </tr>\n",
       "    <tr>\n",
       "      <th>1</th>\n",
       "      <td>2020-01-24 20:25:00</td>\n",
       "      <td>group_notification</td>\n",
       "      <td>Tanay Kamath (TSEC, CS) created group \"CODERS👨...</td>\n",
       "      <td>Fri</td>\n",
       "      <td>Jan</td>\n",
       "      <td>2020</td>\n",
       "      <td>2020-01-24</td>\n",
       "    </tr>\n",
       "    <tr>\n",
       "      <th>2</th>\n",
       "      <td>2020-01-26 16:19:00</td>\n",
       "      <td>group_notification</td>\n",
       "      <td>You joined using this group's invite link</td>\n",
       "      <td>Sun</td>\n",
       "      <td>Jan</td>\n",
       "      <td>2020</td>\n",
       "      <td>2020-01-26</td>\n",
       "    </tr>\n",
       "    <tr>\n",
       "      <th>3</th>\n",
       "      <td>2020-01-26 16:20:00</td>\n",
       "      <td>group_notification</td>\n",
       "      <td>+91 99871 38558 joined using this group's invi...</td>\n",
       "      <td>Sun</td>\n",
       "      <td>Jan</td>\n",
       "      <td>2020</td>\n",
       "      <td>2020-01-26</td>\n",
       "    </tr>\n",
       "    <tr>\n",
       "      <th>4</th>\n",
       "      <td>2020-01-26 16:20:00</td>\n",
       "      <td>group_notification</td>\n",
       "      <td>+91 91680 38866 joined using this group's invi...</td>\n",
       "      <td>Sun</td>\n",
       "      <td>Jan</td>\n",
       "      <td>2020</td>\n",
       "      <td>2020-01-26</td>\n",
       "    </tr>\n",
       "    <tr>\n",
       "      <th>...</th>\n",
       "      <td>...</td>\n",
       "      <td>...</td>\n",
       "      <td>...</td>\n",
       "      <td>...</td>\n",
       "      <td>...</td>\n",
       "      <td>...</td>\n",
       "      <td>...</td>\n",
       "    </tr>\n",
       "    <tr>\n",
       "      <th>13650</th>\n",
       "      <td>2020-10-02 02:05:00</td>\n",
       "      <td>Darshan Rander (TSEC, IT)</td>\n",
       "      <td>MCQs mark kiya</td>\n",
       "      <td>Fri</td>\n",
       "      <td>Oct</td>\n",
       "      <td>2020</td>\n",
       "      <td>2020-10-02</td>\n",
       "    </tr>\n",
       "    <tr>\n",
       "      <th>13651</th>\n",
       "      <td>2020-10-02 02:05:00</td>\n",
       "      <td>Darshan Rander (TSEC, IT)</td>\n",
       "      <td>Sign-in kiya😂😅</td>\n",
       "      <td>Fri</td>\n",
       "      <td>Oct</td>\n",
       "      <td>2020</td>\n",
       "      <td>2020-10-02</td>\n",
       "    </tr>\n",
       "    <tr>\n",
       "      <th>13652</th>\n",
       "      <td>2020-10-02 02:11:00</td>\n",
       "      <td>Tanay Kamath (TSEC, CS)</td>\n",
       "      <td>Incognito se na?</td>\n",
       "      <td>Fri</td>\n",
       "      <td>Oct</td>\n",
       "      <td>2020</td>\n",
       "      <td>2020-10-02</td>\n",
       "    </tr>\n",
       "    <tr>\n",
       "      <th>13653</th>\n",
       "      <td>2020-10-02 02:28:00</td>\n",
       "      <td>Darshan Rander (TSEC, IT)</td>\n",
       "      <td>Yup</td>\n",
       "      <td>Fri</td>\n",
       "      <td>Oct</td>\n",
       "      <td>2020</td>\n",
       "      <td>2020-10-02</td>\n",
       "    </tr>\n",
       "    <tr>\n",
       "      <th>13654</th>\n",
       "      <td>2020-10-02 10:13:00</td>\n",
       "      <td>Dheeraj Lalwani (TSEC, CS)</td>\n",
       "      <td>guys, please do me a favor and vote in this po...</td>\n",
       "      <td>Fri</td>\n",
       "      <td>Oct</td>\n",
       "      <td>2020</td>\n",
       "      <td>2020-10-02</td>\n",
       "    </tr>\n",
       "  </tbody>\n",
       "</table>\n",
       "<p>13655 rows × 7 columns</p>\n",
       "</div>"
      ],
      "text/plain": [
       "                date_time                        user  \\\n",
       "0     2020-01-26 16:19:00          group_notification   \n",
       "1     2020-01-24 20:25:00          group_notification   \n",
       "2     2020-01-26 16:19:00          group_notification   \n",
       "3     2020-01-26 16:20:00          group_notification   \n",
       "4     2020-01-26 16:20:00          group_notification   \n",
       "...                   ...                         ...   \n",
       "13650 2020-10-02 02:05:00   Darshan Rander (TSEC, IT)   \n",
       "13651 2020-10-02 02:05:00   Darshan Rander (TSEC, IT)   \n",
       "13652 2020-10-02 02:11:00     Tanay Kamath (TSEC, CS)   \n",
       "13653 2020-10-02 02:28:00   Darshan Rander (TSEC, IT)   \n",
       "13654 2020-10-02 10:13:00  Dheeraj Lalwani (TSEC, CS)   \n",
       "\n",
       "                                                 message  day month  year  \\\n",
       "0      Messages and calls are end-to-end encrypted. N...  Sun   Jan  2020   \n",
       "1      Tanay Kamath (TSEC, CS) created group \"CODERS👨...  Fri   Jan  2020   \n",
       "2             You joined using this group's invite link   Sun   Jan  2020   \n",
       "3      +91 99871 38558 joined using this group's invi...  Sun   Jan  2020   \n",
       "4      +91 91680 38866 joined using this group's invi...  Sun   Jan  2020   \n",
       "...                                                  ...  ...   ...   ...   \n",
       "13650                                    MCQs mark kiya   Fri   Oct  2020   \n",
       "13651                                    Sign-in kiya😂😅   Fri   Oct  2020   \n",
       "13652                                  Incognito se na?   Fri   Oct  2020   \n",
       "13653                                               Yup   Fri   Oct  2020   \n",
       "13654  guys, please do me a favor and vote in this po...  Fri   Oct  2020   \n",
       "\n",
       "             date  \n",
       "0      2020-01-26  \n",
       "1      2020-01-24  \n",
       "2      2020-01-26  \n",
       "3      2020-01-26  \n",
       "4      2020-01-26  \n",
       "...           ...  \n",
       "13650  2020-10-02  \n",
       "13651  2020-10-02  \n",
       "13652  2020-10-02  \n",
       "13653  2020-10-02  \n",
       "13654  2020-10-02  \n",
       "\n",
       "[13655 rows x 7 columns]"
      ]
     },
     "execution_count": 6,
     "metadata": {},
     "output_type": "execute_result"
    }
   ],
   "source": [
    "df"
   ]
  },
  {
   "cell_type": "markdown",
   "metadata": {},
   "source": [
    "### 1. Most Active Users of the group "
   ]
  },
  {
   "cell_type": "code",
   "execution_count": 7,
   "metadata": {},
   "outputs": [
    {
     "name": "stdout",
     "output_type": "stream",
     "text": [
      "The number of people in the group who haven't sent a single text on the group = 81\n"
     ]
    }
   ],
   "source": [
    "print(f\"The number of people in the group who haven't sent a single text on the group = {237 - len(df.user.unique())-1}\")"
   ]
  },
  {
   "cell_type": "code",
   "execution_count": 8,
   "metadata": {},
   "outputs": [
    {
     "data": {
      "text/html": [
       "<div>\n",
       "<style scoped>\n",
       "    .dataframe tbody tr th:only-of-type {\n",
       "        vertical-align: middle;\n",
       "    }\n",
       "\n",
       "    .dataframe tbody tr th {\n",
       "        vertical-align: top;\n",
       "    }\n",
       "\n",
       "    .dataframe thead th {\n",
       "        text-align: right;\n",
       "    }\n",
       "</style>\n",
       "<table border=\"1\" class=\"dataframe\">\n",
       "  <thead>\n",
       "    <tr style=\"text-align: right;\">\n",
       "      <th></th>\n",
       "      <th>user</th>\n",
       "      <th>message</th>\n",
       "    </tr>\n",
       "  </thead>\n",
       "  <tbody>\n",
       "    <tr>\n",
       "      <th>0</th>\n",
       "      <td>Tanay Kamath (TSEC, CS)</td>\n",
       "      <td>2476</td>\n",
       "    </tr>\n",
       "    <tr>\n",
       "      <th>1</th>\n",
       "      <td>Dheeraj Lalwani (TSEC, CS)</td>\n",
       "      <td>1888</td>\n",
       "    </tr>\n",
       "    <tr>\n",
       "      <th>2</th>\n",
       "      <td>Darshan Rander (TSEC, IT)</td>\n",
       "      <td>1387</td>\n",
       "    </tr>\n",
       "    <tr>\n",
       "      <th>3</th>\n",
       "      <td>Kartik Soneji (TSEC, CS)</td>\n",
       "      <td>792</td>\n",
       "    </tr>\n",
       "    <tr>\n",
       "      <th>4</th>\n",
       "      <td>Harsh Kapadia (TSEC IT, SE)</td>\n",
       "      <td>748</td>\n",
       "    </tr>\n",
       "    <tr>\n",
       "      <th>5</th>\n",
       "      <td>Pratik K (TSEC CS, SE)</td>\n",
       "      <td>732</td>\n",
       "    </tr>\n",
       "    <tr>\n",
       "      <th>6</th>\n",
       "      <td>Saurav Upoor (TSEC CS, SE)</td>\n",
       "      <td>534</td>\n",
       "    </tr>\n",
       "    <tr>\n",
       "      <th>7</th>\n",
       "      <td>Tushar Nankani</td>\n",
       "      <td>323</td>\n",
       "    </tr>\n",
       "    <tr>\n",
       "      <th>8</th>\n",
       "      <td>+91 82916 21138</td>\n",
       "      <td>269</td>\n",
       "    </tr>\n",
       "    <tr>\n",
       "      <th>9</th>\n",
       "      <td>Farhan Irani (TSEC IT, SE)</td>\n",
       "      <td>252</td>\n",
       "    </tr>\n",
       "  </tbody>\n",
       "</table>\n",
       "</div>"
      ],
      "text/plain": [
       "                          user  message\n",
       "0      Tanay Kamath (TSEC, CS)     2476\n",
       "1   Dheeraj Lalwani (TSEC, CS)     1888\n",
       "2    Darshan Rander (TSEC, IT)     1387\n",
       "3     Kartik Soneji (TSEC, CS)      792\n",
       "4  Harsh Kapadia (TSEC IT, SE)      748\n",
       "5       Pratik K (TSEC CS, SE)      732\n",
       "6   Saurav Upoor (TSEC CS, SE)      534\n",
       "7               Tushar Nankani      323\n",
       "8              +91 82916 21138      269\n",
       "9   Farhan Irani (TSEC IT, SE)      252"
      ]
     },
     "execution_count": 8,
     "metadata": {},
     "output_type": "execute_result"
    }
   ],
   "source": [
    "df2 = df.copy()    \n",
    "\n",
    "# extracting only messages from the dataset\n",
    "df2 = df2[df2.user != \"group_notification\"]\n",
    "\n",
    "# counting the number of messages and grouping them by person\n",
    "top10df = df2.groupby(\"user\")[\"message\"].count().sort_values(ascending=False)\n",
    "\n",
    "# Final Data Frame\n",
    "top10df = top10df.head(10).reset_index()\n",
    "top10df"
   ]
  },
  {
   "cell_type": "code",
   "execution_count": 9,
   "metadata": {},
   "outputs": [
    {
     "name": "stderr",
     "output_type": "stream",
     "text": [
      "C:\\Users\\Sushanth Bhat\\anaconda3\\lib\\site-packages\\ipykernel_launcher.py:3: SettingWithCopyWarning: \n",
      "A value is trying to be set on a copy of a slice from a DataFrame\n",
      "\n",
      "See the caveats in the documentation: https://pandas.pydata.org/pandas-docs/stable/user_guide/indexing.html#returning-a-view-versus-a-copy\n",
      "  This is separate from the ipykernel package so we can avoid doing imports until\n",
      "C:\\Users\\Sushanth Bhat\\anaconda3\\lib\\site-packages\\ipykernel_launcher.py:5: SettingWithCopyWarning: \n",
      "A value is trying to be set on a copy of a slice from a DataFrame\n",
      "\n",
      "See the caveats in the documentation: https://pandas.pydata.org/pandas-docs/stable/user_guide/indexing.html#returning-a-view-versus-a-copy\n",
      "  \"\"\"\n"
     ]
    }
   ],
   "source": [
    "top10df['initials'] = ''\n",
    "for i in range(10):\n",
    "    top10df.initials[i] = top10df.user[i].split()[0][0] + top10df.user[i].split()[1][0]\n",
    "\n",
    "top10df.initials[8] = \"Unknown\"  #since the number is not saved we'll just put it as an unknown number"
   ]
  },
  {
   "cell_type": "code",
   "execution_count": 10,
   "metadata": {},
   "outputs": [
    {
     "data": {
      "image/png": "[encoded data removed]",
      "text/plain": [
       "<Figure size 864x576 with 1 Axes>"
      ]
     },
     "metadata": {},
     "output_type": "display_data"
    }
   ],
   "source": [
    "sns.set_style('darkgrid')\n",
    "\n",
    "plt.figure(figsize=(12,8))\n",
    "\n",
    "sns.barplot(top10df.initials, top10df.message, data=top10df);\n",
    "# plt.plot(top10df.initials, top10df.message, 'o--c', color='m');   # line chart\n"
   ]
  },
  {
   "cell_type": "code",
   "execution_count": null,
   "metadata": {},
   "outputs": [],
   "source": []
  }
 ],
 "metadata": {
  "kernelspec": {
   "display_name": "Python 3",
   "language": "python",
   "name": "python3"
  },
  "language_info": {
   "codemirror_mode": {
    "name": "ipython",
    "version": 3
   },
   "file_extension": ".py",
   "mimetype": "text/x-python",
   "name": "python",
   "nbconvert_exporter": "python",
   "pygments_lexer": "ipython3",
   "version": "3.7.6"
  }
 },
 "nbformat": 4,
 "nbformat_minor": 4
}
