{
 "cells": [
  {
   "cell_type": "markdown",
   "metadata": {},
   "source": [
    "# Dataset Creation"
   ]
  },
  {
   "cell_type": "markdown",
   "metadata": {},
   "source": [
    "Importing the required modules"
   ]
  },
  {
   "cell_type": "code",
   "execution_count": 1,
   "metadata": {},
   "outputs": [],
   "source": [
    "\n",
    "import re\n",
    "import pandas as pd\n",
    "import numpy as np\n",
    "import emoji\n",
    "import plotly.express as px\n",
    "from collections import Counter\n",
    "import matplotlib.pyplot as plt\n",
    "from os import path\n",
    "from PIL import Image\n",
    "from wordcloud import WordCloud, STOPWORDS, ImageColorGenerator"
   ]
  },
  {
   "cell_type": "code",
   "execution_count": 2,
   "metadata": {},
   "outputs": [],
   "source": [
    "%matplotlib inline"
   ]
  },
  {
   "cell_type": "markdown",
   "metadata": {},
   "source": [
    "Checking each line if it starts with date and time to identify each unique message in the text file"
   ]
  },
  {
   "cell_type": "code",
   "execution_count": 3,
   "metadata": {},
   "outputs": [],
   "source": [
    "def startsWithDateAndTime(s):\n",
    "    pattern = '^([0-9]+)(\\/)([0-9]+)(\\/)([0-9]+), ([0-9]+):([0-9]+)[ ]?(AM|PM|am|pm)? -'\n",
    "    result = re.match(pattern, s)\n",
    "    if result:\n",
    "        return True\n",
    "    return False"
   ]
  },
  {
   "cell_type": "code",
   "execution_count": 4,
   "metadata": {},
   "outputs": [],
   "source": [
    "def FindAuthor(s):\n",
    "  s = s.split(\":\")\n",
    "  if len(s)==2:\n",
    "    return True\n",
    "  else:\n",
    "    return False"
   ]
  },
  {
   "cell_type": "code",
   "execution_count": 5,
   "metadata": {},
   "outputs": [],
   "source": [
    "def getDataPoint(line):   \n",
    "    splitLine = line.split(' - ') \n",
    "    dateTime = splitLine[0]\n",
    "    date, time = dateTime.split(', ') \n",
    "    message = ' '.join(splitLine[1:])\n",
    "    if FindAuthor(message): \n",
    "        splitMessage = message.split(': ') \n",
    "        author = splitMessage[0] \n",
    "        message = ' '.join(splitMessage[1:])\n",
    "    else:\n",
    "        author = None\n",
    "    return date, time, author, message"
   ]
  },
  {
   "cell_type": "code",
   "execution_count": 6,
   "metadata": {},
   "outputs": [],
   "source": [
    "conversation = 'chat.txt'"
   ]
  },
  {
   "cell_type": "code",
   "execution_count": 7,
   "metadata": {},
   "outputs": [],
   "source": [
    "parsedData = [] # List to keep track of data so it can be used by a Pandas dataframe\n",
    "conversation = 'chat.txt'\n",
    "with open(conversation, encoding=\"utf-8\") as fp:\n",
    "    fp.readline() # Skipping first line of the file because contains information related to something about end-to-end encryption\n",
    "    messageBuffer = [] \n",
    "    date, time, author = None, None, None\n",
    "    while True:\n",
    "        line = fp.readline() \n",
    "        if not line: \n",
    "            break\n",
    "        line = line.strip() \n",
    "        if startsWithDateAndTime(line): \n",
    "            if len(messageBuffer) > 0: \n",
    "                parsedData.append([date, time, author, ' '.join(messageBuffer)]) \n",
    "            messageBuffer.clear() \n",
    "            date, time, author, message = getDataPoint(line) \n",
    "            messageBuffer.append(message) \n",
    "        else:\n",
    "            messageBuffer.append(line)"
   ]
  },
  {
   "cell_type": "code",
   "execution_count": 8,
   "metadata": {},
   "outputs": [],
   "source": [
    "df = pd.DataFrame(parsedData, columns = ['Date', 'Time','Author', 'Message'])"
   ]
  },
  {
   "cell_type": "code",
   "execution_count": 9,
   "metadata": {},
   "outputs": [
    {
     "data": {
      "text/html": [
       "<div>\n",
       "<style scoped>\n",
       "    .dataframe tbody tr th:only-of-type {\n",
       "        vertical-align: middle;\n",
       "    }\n",
       "\n",
       "    .dataframe tbody tr th {\n",
       "        vertical-align: top;\n",
       "    }\n",
       "\n",
       "    .dataframe thead th {\n",
       "        text-align: right;\n",
       "    }\n",
       "</style>\n",
       "<table border=\"1\" class=\"dataframe\">\n",
       "  <thead>\n",
       "    <tr style=\"text-align: right;\">\n",
       "      <th></th>\n",
       "      <th>Date</th>\n",
       "      <th>Time</th>\n",
       "      <th>Author</th>\n",
       "      <th>Message</th>\n",
       "    </tr>\n",
       "  </thead>\n",
       "  <tbody>\n",
       "    <tr>\n",
       "      <th>0</th>\n",
       "      <td>24/01/2020</td>\n",
       "      <td>8:25 pm</td>\n",
       "      <td>None</td>\n",
       "      <td>Tanay Kamath (TSEC, CS) created group \"CODERS👨...</td>\n",
       "    </tr>\n",
       "    <tr>\n",
       "      <th>1</th>\n",
       "      <td>26/01/2020</td>\n",
       "      <td>4:19 pm</td>\n",
       "      <td>None</td>\n",
       "      <td>You joined using this group's invite link</td>\n",
       "    </tr>\n",
       "    <tr>\n",
       "      <th>2</th>\n",
       "      <td>26/01/2020</td>\n",
       "      <td>4:20 pm</td>\n",
       "      <td>None</td>\n",
       "      <td>+91 99871 38558 joined using this group's invi...</td>\n",
       "    </tr>\n",
       "    <tr>\n",
       "      <th>3</th>\n",
       "      <td>26/01/2020</td>\n",
       "      <td>4:20 pm</td>\n",
       "      <td>None</td>\n",
       "      <td>+91 91680 38866 joined using this group's invi...</td>\n",
       "    </tr>\n",
       "    <tr>\n",
       "      <th>4</th>\n",
       "      <td>26/01/2020</td>\n",
       "      <td>4:22 pm</td>\n",
       "      <td>None</td>\n",
       "      <td>+91 72762 35231 joined using this group's invi...</td>\n",
       "    </tr>\n",
       "  </tbody>\n",
       "</table>\n",
       "</div>"
      ],
      "text/plain": [
       "         Date     Time Author  \\\n",
       "0  24/01/2020  8:25 pm   None   \n",
       "1  26/01/2020  4:19 pm   None   \n",
       "2  26/01/2020  4:20 pm   None   \n",
       "3  26/01/2020  4:20 pm   None   \n",
       "4  26/01/2020  4:22 pm   None   \n",
       "\n",
       "                                             Message  \n",
       "0  Tanay Kamath (TSEC, CS) created group \"CODERS👨...  \n",
       "1          You joined using this group's invite link  \n",
       "2  +91 99871 38558 joined using this group's invi...  \n",
       "3  +91 91680 38866 joined using this group's invi...  \n",
       "4  +91 72762 35231 joined using this group's invi...  "
      ]
     },
     "execution_count": 9,
     "metadata": {},
     "output_type": "execute_result"
    }
   ],
   "source": [
    "df.head()"
   ]
  },
  {
   "cell_type": "code",
   "execution_count": 10,
   "metadata": {},
   "outputs": [
    {
     "data": {
      "text/plain": [
       "array([None, '+91 96536 93868', 'Dheeraj Lalwani (TSEC, CS)',\n",
       "       '+91 99201 75875', '+91 95949 08570', '+91 79778 76844',\n",
       "       '+91 90499 38860', 'Tanay Kamath (TSEC, CS)', 'Saket (TSEC, CS)',\n",
       "       '+91 77568 95072', 'Rohit Pathak (TSEC, CS)', '+91 75078 05454',\n",
       "       'Darshan Rander (TSEC, IT)', '+91 79774 68083', '+91 70394 60876',\n",
       "       '+91 96191 55044', '+91 90678 93300', 'Mohit Varma (TSEC, CS)',\n",
       "       '+91 79770 56210', 'Chirag Sharma (TSEC, CS)',\n",
       "       'Vivek Iyer (TSEC, Biomed)', 'Tushar Nankani', '+91 81696 22410',\n",
       "       '+91 89764 07509', '+91 78758 66747', 'Ankit (TSEC, CS)',\n",
       "       '+91 86556 33169', '+91 76663 28147', '+91 88284 70904',\n",
       "       '+91 97698 67348', 'Vivek (TSEC, CS)', 'Hardik Raheja (TSEC, CS)',\n",
       "       '+91 91680 38866', 'Mittul Dasani (TSEC, CS)',\n",
       "       'Kartik Soneji (TSEC, CS)', '+91 77180 43697', '+91 99676 84479',\n",
       "       'Shreya (TSEC, IT)', '+91 96190 16721', '+91 89833 85127',\n",
       "       '+91 99675 58551', '+91 90822 59476', 'Prithvi Rohira (TSEC, CS)',\n",
       "       '+91 90820 98830', 'Mohammed (TSEC, EXTC)', '+91 96992 89993',\n",
       "       '+91 83690 21693', '+91 75064 86714', 'Pratik K (TSEC CS, SE)',\n",
       "       'Farhan Irani (TSEC IT, SE)', '+91 77000 27264',\n",
       "       'Harsh Kapadia (TSEC IT, SE)', 'Saurav Upoor (TSEC CS, SE)',\n",
       "       '+91 77180 82108', '+91 86559 19035', '+91 77150 51136',\n",
       "       '+91 91671 28174', '+91 84335 18102', '+91 84529 62233',\n",
       "       '+91 81080 96759', '+91 82080 02653', '+91 93243 92133',\n",
       "       '+91 97681 67131', '+91 98206 01141', '+91 84540 03063',\n",
       "       '+91 99693 94098', '+91 88305 26885', '+91 70208 31915',\n",
       "       '+91 97027 35002', '+91 98192 22032', '+91 97739 65140',\n",
       "       '+91 97571 15289', 'Rishab Saini (TSEC CS, TE)', '+91 94208 78848',\n",
       "       '+91 93598 18687', '+91 73043 57388', '+91 98331 51331',\n",
       "       '+91 80979 84068', '+91 99697 55118', '+91 95119 48511',\n",
       "       '+91 82916 21138', '+91 98337 61116', '+91 88889 97733',\n",
       "       '+91 97697 60869', '+91 99672 39663', '+91 87796 70896',\n",
       "       '+91 98191 73361', '+91 70219 80066', '+91 88282 22720',\n",
       "       '+91 97027 04646', '+91 70450 40641', '+91 87796 52381',\n",
       "       '+91 99204 26955', '+91 99696 99151', '+91 98333 66146',\n",
       "       '+91 91363 39446', '+91 95940 62134', '+91 77189 86205',\n",
       "       '+91 97694 89970', '+91 99302 21772', '+91 77109 79055',\n",
       "       '+91 96648 44643', '+91 98337 47258', 'Keyul Jain (TSEC, CS)',\n",
       "       '+91 98198 16330', '+91 92842 87810', '+91 72495 29889',\n",
       "       '+91 88798 05171', '+91 91677 97590', '+91 86528 77025',\n",
       "       '+91 77158 99478', '+91 77383 38799',\n",
       "       'Shubham Chettiar (TSEC CS, TE)', 'Trushant Narwani (TSEC, CS)',\n",
       "       '+91 86059 72817', '+91 83292 66084', '+91 82080 03744',\n",
       "       '+91 98670 44401', '+91 77098 73262', 'Sahil A (TSEC, CS-B)',\n",
       "       '+91 96194 00980', '+91 99304 97064', '+91 77699 70908',\n",
       "       '+91 98337 26449', '+91 97847 88658', '+91 82916 40581',\n",
       "       '+91 91670 43943', '+91 94044 50783', '+91 90821 58843',\n",
       "       '+91 97022 69539', '+91 73036 41107', '+91 88795 52797',\n",
       "       'Akash Khatri (TSEC, CS)', '+91 91525 25452', '+91 79778 03985',\n",
       "       '+91 91725 67828', '+91 98206 14506', '+91 70218 25025',\n",
       "       '+91 94200 70678', '+91 99203 34360', '+91 96374 40537',\n",
       "       '+91 98199 01072', '+91 91673 86883', '+91 73032 50500',\n",
       "       '+91 91362 39673', '+91 98501 32687', 'Kritanjali',\n",
       "       '+91 98709 38217'], dtype=object)"
      ]
     },
     "execution_count": 10,
     "metadata": {},
     "output_type": "execute_result"
    }
   ],
   "source": [
    "df['Author'].unique()"
   ]
  },
  {
   "cell_type": "code",
   "execution_count": 11,
   "metadata": {},
   "outputs": [],
   "source": [
    "df.to_csv('Whatsapp_Chat_Table.csv')"
   ]
  },
  {
   "cell_type": "code",
   "execution_count": null,
   "metadata": {},
   "outputs": [],
   "source": []
  }
 ],
 "metadata": {
  "kernelspec": {
   "display_name": "Python 3 (ipykernel)",
   "language": "python",
   "name": "python3"
  },
  "language_info": {
   "codemirror_mode": {
    "name": "ipython",
    "version": 3
   },
   "file_extension": ".py",
   "mimetype": "text/x-python",
   "name": "python",
   "nbconvert_exporter": "python",
   "pygments_lexer": "ipython3",
   "version": "3.8.10"
  }
 },
 "nbformat": 4,
 "nbformat_minor": 4
}
